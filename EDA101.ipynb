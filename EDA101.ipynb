{
 "cells": [
  {
   "cell_type": "markdown",
   "metadata": {
    "id": "u9zV49uXzpis"
   },
   "source": [
    "**This note book covers Explanatory Data Analysis a crucial step in Data analytics process. Generally Data cleaning, manipulation, statistitical Analysis and visualizations.We will be using a car dataset from kaggle.**"
   ]
  },
  {
   "cell_type": "code",
   "execution_count": 2,
   "metadata": {
    "id": "5DJNeEF-0il3"
   },
   "outputs": [],
   "source": [
    "import pandas as pd\n",
    "import numpy as np\n",
    "import matplotlib.pyplot as plt\n",
    "import seaborn as sns\n",
    "%matplotlib inline"
   ]
  },
  {
   "cell_type": "code",
   "execution_count": 4,
   "metadata": {
    "colab": {
     "base_uri": "https://localhost:8080/",
     "height": 434
    },
    "id": "_W4IRZCXzvmQ",
    "outputId": "3d56c947-d6af-4053-df34-c52da8c0cde3"
   },
   "outputs": [
    {
     "data": {
      "text/html": [
       "<div>\n",
       "<style scoped>\n",
       "    .dataframe tbody tr th:only-of-type {\n",
       "        vertical-align: middle;\n",
       "    }\n",
       "\n",
       "    .dataframe tbody tr th {\n",
       "        vertical-align: top;\n",
       "    }\n",
       "\n",
       "    .dataframe thead th {\n",
       "        text-align: right;\n",
       "    }\n",
       "</style>\n",
       "<table border=\"1\" class=\"dataframe\">\n",
       "  <thead>\n",
       "    <tr style=\"text-align: right;\">\n",
       "      <th></th>\n",
       "      <th>Make</th>\n",
       "      <th>Model</th>\n",
       "      <th>Year</th>\n",
       "      <th>Engine Fuel Type</th>\n",
       "      <th>Engine HP</th>\n",
       "      <th>Engine Cylinders</th>\n",
       "      <th>Transmission Type</th>\n",
       "      <th>Driven_Wheels</th>\n",
       "      <th>Number of Doors</th>\n",
       "      <th>Market Category</th>\n",
       "      <th>Vehicle Size</th>\n",
       "      <th>Vehicle Style</th>\n",
       "      <th>highway MPG</th>\n",
       "      <th>city mpg</th>\n",
       "      <th>Popularity</th>\n",
       "      <th>MSRP</th>\n",
       "    </tr>\n",
       "  </thead>\n",
       "  <tbody>\n",
       "    <tr>\n",
       "      <th>0</th>\n",
       "      <td>BMW</td>\n",
       "      <td>1 Series M</td>\n",
       "      <td>2011</td>\n",
       "      <td>premium unleaded (required)</td>\n",
       "      <td>335.0</td>\n",
       "      <td>6.0</td>\n",
       "      <td>MANUAL</td>\n",
       "      <td>rear wheel drive</td>\n",
       "      <td>2.0</td>\n",
       "      <td>Factory Tuner,Luxury,High-Performance</td>\n",
       "      <td>Compact</td>\n",
       "      <td>Coupe</td>\n",
       "      <td>26</td>\n",
       "      <td>19</td>\n",
       "      <td>3916</td>\n",
       "      <td>46135</td>\n",
       "    </tr>\n",
       "    <tr>\n",
       "      <th>1</th>\n",
       "      <td>BMW</td>\n",
       "      <td>1 Series</td>\n",
       "      <td>2011</td>\n",
       "      <td>premium unleaded (required)</td>\n",
       "      <td>300.0</td>\n",
       "      <td>6.0</td>\n",
       "      <td>MANUAL</td>\n",
       "      <td>rear wheel drive</td>\n",
       "      <td>2.0</td>\n",
       "      <td>Luxury,Performance</td>\n",
       "      <td>Compact</td>\n",
       "      <td>Convertible</td>\n",
       "      <td>28</td>\n",
       "      <td>19</td>\n",
       "      <td>3916</td>\n",
       "      <td>40650</td>\n",
       "    </tr>\n",
       "    <tr>\n",
       "      <th>2</th>\n",
       "      <td>BMW</td>\n",
       "      <td>1 Series</td>\n",
       "      <td>2011</td>\n",
       "      <td>premium unleaded (required)</td>\n",
       "      <td>300.0</td>\n",
       "      <td>6.0</td>\n",
       "      <td>MANUAL</td>\n",
       "      <td>rear wheel drive</td>\n",
       "      <td>2.0</td>\n",
       "      <td>Luxury,High-Performance</td>\n",
       "      <td>Compact</td>\n",
       "      <td>Coupe</td>\n",
       "      <td>28</td>\n",
       "      <td>20</td>\n",
       "      <td>3916</td>\n",
       "      <td>36350</td>\n",
       "    </tr>\n",
       "    <tr>\n",
       "      <th>3</th>\n",
       "      <td>BMW</td>\n",
       "      <td>1 Series</td>\n",
       "      <td>2011</td>\n",
       "      <td>premium unleaded (required)</td>\n",
       "      <td>230.0</td>\n",
       "      <td>6.0</td>\n",
       "      <td>MANUAL</td>\n",
       "      <td>rear wheel drive</td>\n",
       "      <td>2.0</td>\n",
       "      <td>Luxury,Performance</td>\n",
       "      <td>Compact</td>\n",
       "      <td>Coupe</td>\n",
       "      <td>28</td>\n",
       "      <td>18</td>\n",
       "      <td>3916</td>\n",
       "      <td>29450</td>\n",
       "    </tr>\n",
       "    <tr>\n",
       "      <th>4</th>\n",
       "      <td>BMW</td>\n",
       "      <td>1 Series</td>\n",
       "      <td>2011</td>\n",
       "      <td>premium unleaded (required)</td>\n",
       "      <td>230.0</td>\n",
       "      <td>6.0</td>\n",
       "      <td>MANUAL</td>\n",
       "      <td>rear wheel drive</td>\n",
       "      <td>2.0</td>\n",
       "      <td>Luxury</td>\n",
       "      <td>Compact</td>\n",
       "      <td>Convertible</td>\n",
       "      <td>28</td>\n",
       "      <td>18</td>\n",
       "      <td>3916</td>\n",
       "      <td>34500</td>\n",
       "    </tr>\n",
       "  </tbody>\n",
       "</table>\n",
       "</div>"
      ],
      "text/plain": [
       "  Make       Model  Year             Engine Fuel Type  Engine HP  \\\n",
       "0  BMW  1 Series M  2011  premium unleaded (required)      335.0   \n",
       "1  BMW    1 Series  2011  premium unleaded (required)      300.0   \n",
       "2  BMW    1 Series  2011  premium unleaded (required)      300.0   \n",
       "3  BMW    1 Series  2011  premium unleaded (required)      230.0   \n",
       "4  BMW    1 Series  2011  premium unleaded (required)      230.0   \n",
       "\n",
       "   Engine Cylinders Transmission Type     Driven_Wheels  Number of Doors  \\\n",
       "0               6.0            MANUAL  rear wheel drive              2.0   \n",
       "1               6.0            MANUAL  rear wheel drive              2.0   \n",
       "2               6.0            MANUAL  rear wheel drive              2.0   \n",
       "3               6.0            MANUAL  rear wheel drive              2.0   \n",
       "4               6.0            MANUAL  rear wheel drive              2.0   \n",
       "\n",
       "                         Market Category Vehicle Size Vehicle Style  \\\n",
       "0  Factory Tuner,Luxury,High-Performance      Compact         Coupe   \n",
       "1                     Luxury,Performance      Compact   Convertible   \n",
       "2                Luxury,High-Performance      Compact         Coupe   \n",
       "3                     Luxury,Performance      Compact         Coupe   \n",
       "4                                 Luxury      Compact   Convertible   \n",
       "\n",
       "   highway MPG  city mpg  Popularity   MSRP  \n",
       "0           26        19        3916  46135  \n",
       "1           28        19        3916  40650  \n",
       "2           28        20        3916  36350  \n",
       "3           28        18        3916  29450  \n",
       "4           28        18        3916  34500  "
      ]
     },
     "execution_count": 4,
     "metadata": {},
     "output_type": "execute_result"
    }
   ],
   "source": [
    "# importing the data\n",
    "df = pd.read_csv(\"C:/Users/njoro/Desktop/SPSS ANALYSIS/data.csv\")\n",
    "df.head()"
   ]
  },
  {
   "cell_type": "code",
   "execution_count": 6,
   "metadata": {
    "colab": {
     "base_uri": "https://localhost:8080/"
    },
    "id": "S4JxZudv06MN",
    "outputId": "ade4b187-ce61-4e9b-8d75-e70b98bfd809"
   },
   "outputs": [
    {
     "name": "stdout",
     "output_type": "stream",
     "text": [
      "The data has 11914 rows and 16 columns\n",
      "The data has 3850 missing values\n",
      "In more details here are the columns with missing values\n",
      "\n",
      "Make                    0\n",
      "Model                   0\n",
      "Year                    0\n",
      "Engine Fuel Type        3\n",
      "Engine HP              69\n",
      "Engine Cylinders       30\n",
      "Transmission Type       0\n",
      "Driven_Wheels           0\n",
      "Number of Doors         6\n",
      "Market Category      3742\n",
      "Vehicle Size            0\n",
      "Vehicle Style           0\n",
      "highway MPG             0\n",
      "city mpg                0\n",
      "Popularity              0\n",
      "MSRP                    0\n",
      "dtype: int64\n"
     ]
    }
   ],
   "source": [
    "# Now since the data is loaded let us check the shape and if there any missing values\n",
    "print(f\"The data has {df.shape[0]} rows and {df.shape[1]} columns\")\n",
    "print(f\"The data has {df.isnull().sum().sum()} missing values\")\n",
    "print(f\"In more details here are the columns with missing values\\n\")\n",
    "print(f\"{df.isnull().sum()}\")"
   ]
  },
  {
   "cell_type": "markdown",
   "metadata": {
    "id": "gldooR5V2kRv"
   },
   "source": [
    "Now Since there are missing values we have to deal with them"
   ]
  },
  {
   "cell_type": "code",
   "execution_count": 7,
   "metadata": {
    "colab": {
     "base_uri": "https://localhost:8080/"
    },
    "id": "KaAzy_cb2i9Y",
    "outputId": "4aed4451-4654-4478-b5ef-d670edd7dae3"
   },
   "outputs": [
    {
     "name": "stdout",
     "output_type": "stream",
     "text": [
      "The data has 0 missing values\n"
     ]
    }
   ],
   "source": [
    "df = df.dropna()\n",
    "# Confirm that there are no missing values\n",
    "print(f\"The data has {df.isnull().sum().sum()} missing values\")"
   ]
  },
  {
   "cell_type": "code",
   "execution_count": 8,
   "metadata": {
    "colab": {
     "base_uri": "https://localhost:8080/"
    },
    "id": "IqydPMxE2i6f",
    "outputId": "735ac725-c414-4a38-86fc-06fb1402ee1c"
   },
   "outputs": [
    {
     "name": "stdout",
     "output_type": "stream",
     "text": [
      "The data has 349 duplicated rows \n",
      "\n",
      "The rows are: \n",
      "         Make     Model  Year             Engine Fuel Type  Engine HP  \\\n",
      "14        BMW  1 Series  2013  premium unleaded (required)      230.0   \n",
      "18       Audi       100  1992             regular unleaded      172.0   \n",
      "20       Audi       100  1992             regular unleaded      172.0   \n",
      "24       Audi       100  1993             regular unleaded      172.0   \n",
      "25       Audi       100  1993             regular unleaded      172.0   \n",
      "...       ...       ...   ...                          ...        ...   \n",
      "11471  Subaru       WRX  2017  premium unleaded (required)      305.0   \n",
      "11603   Volvo      XC60  2017             regular unleaded      302.0   \n",
      "11604   Volvo      XC60  2017             regular unleaded      240.0   \n",
      "11708  Suzuki       XL7  2008             regular unleaded      252.0   \n",
      "11717  Suzuki       XL7  2008             regular unleaded      252.0   \n",
      "\n",
      "       Engine Cylinders Transmission Type      Driven_Wheels  Number of Doors  \\\n",
      "14                  6.0            MANUAL   rear wheel drive              2.0   \n",
      "18                  6.0            MANUAL  front wheel drive              4.0   \n",
      "20                  6.0            MANUAL  front wheel drive              4.0   \n",
      "24                  6.0            MANUAL  front wheel drive              4.0   \n",
      "25                  6.0            MANUAL  front wheel drive              4.0   \n",
      "...                 ...               ...                ...              ...   \n",
      "11471               4.0            MANUAL    all wheel drive              4.0   \n",
      "11603               4.0         AUTOMATIC    all wheel drive              4.0   \n",
      "11604               4.0         AUTOMATIC  front wheel drive              4.0   \n",
      "11708               6.0         AUTOMATIC    all wheel drive              4.0   \n",
      "11717               6.0         AUTOMATIC  front wheel drive              4.0   \n",
      "\n",
      "                      Market Category Vehicle Size Vehicle Style  highway MPG  \\\n",
      "14                 Luxury,Performance      Compact         Coupe           28   \n",
      "18                             Luxury      Midsize         Sedan           24   \n",
      "20                             Luxury      Midsize         Sedan           24   \n",
      "24                             Luxury      Midsize         Sedan           24   \n",
      "25                             Luxury      Midsize         Sedan           24   \n",
      "...                               ...          ...           ...          ...   \n",
      "11471  Factory Tuner,High-Performance      Compact         Sedan           23   \n",
      "11603    Crossover,Luxury,Performance      Midsize       4dr SUV           29   \n",
      "11604                Crossover,Luxury      Midsize       4dr SUV           30   \n",
      "11708                       Crossover      Midsize       4dr SUV           22   \n",
      "11717                       Crossover      Midsize       4dr SUV           22   \n",
      "\n",
      "       city mpg  Popularity   MSRP  \n",
      "14           19        3916  31500  \n",
      "18           17        3105   2000  \n",
      "20           17        3105   2000  \n",
      "24           17        3105   2000  \n",
      "25           17        3105   2000  \n",
      "...         ...         ...    ...  \n",
      "11471        17         640  39995  \n",
      "11603        20         870  46350  \n",
      "11604        23         870  40950  \n",
      "11708        15         481  29149  \n",
      "11717        16         481  27499  \n",
      "\n",
      "[349 rows x 16 columns]\n"
     ]
    }
   ],
   "source": [
    "# So the next step is to clear any duplicates\n",
    "duplicates = df[df.duplicated()]\n",
    "print(f\"The data has {duplicates.shape[0]} duplicated rows \\n\")\n",
    "print(\"The rows are: \")\n",
    "print(duplicates)"
   ]
  },
  {
   "cell_type": "code",
   "execution_count": 9,
   "metadata": {
    "id": "MdZUFt_B2ixe"
   },
   "outputs": [],
   "source": [
    "# Now remove the duplicates\n",
    "df = df.drop_duplicates()"
   ]
  },
  {
   "cell_type": "code",
   "execution_count": 10,
   "metadata": {
    "id": "w5Qg9meL2iuh"
   },
   "outputs": [],
   "source": [
    "# Now we shall remove unwanted columns\n",
    "df = df.drop(['Engine Fuel Type', 'Market Category', 'Vehicle Style', 'Popularity', 'Number of Doors', 'Vehicle Size'], axis = 1)"
   ]
  },
  {
   "cell_type": "code",
   "execution_count": 11,
   "metadata": {
    "colab": {
     "base_uri": "https://localhost:8080/",
     "height": 206
    },
    "id": "1oiCDV8L2ie1",
    "outputId": "afc99d24-2453-4ad9-93f6-1ca0c8962677"
   },
   "outputs": [
    {
     "data": {
      "text/html": [
       "<div>\n",
       "<style scoped>\n",
       "    .dataframe tbody tr th:only-of-type {\n",
       "        vertical-align: middle;\n",
       "    }\n",
       "\n",
       "    .dataframe tbody tr th {\n",
       "        vertical-align: top;\n",
       "    }\n",
       "\n",
       "    .dataframe thead th {\n",
       "        text-align: right;\n",
       "    }\n",
       "</style>\n",
       "<table border=\"1\" class=\"dataframe\">\n",
       "  <thead>\n",
       "    <tr style=\"text-align: right;\">\n",
       "      <th></th>\n",
       "      <th>Make</th>\n",
       "      <th>Model</th>\n",
       "      <th>Year</th>\n",
       "      <th>Engine HP</th>\n",
       "      <th>Engine Cylinders</th>\n",
       "      <th>Transmission Type</th>\n",
       "      <th>Driven_Wheels</th>\n",
       "      <th>highway MPG</th>\n",
       "      <th>city mpg</th>\n",
       "      <th>MSRP</th>\n",
       "    </tr>\n",
       "  </thead>\n",
       "  <tbody>\n",
       "    <tr>\n",
       "      <th>0</th>\n",
       "      <td>BMW</td>\n",
       "      <td>1 Series M</td>\n",
       "      <td>2011</td>\n",
       "      <td>335.0</td>\n",
       "      <td>6.0</td>\n",
       "      <td>MANUAL</td>\n",
       "      <td>rear wheel drive</td>\n",
       "      <td>26</td>\n",
       "      <td>19</td>\n",
       "      <td>46135</td>\n",
       "    </tr>\n",
       "    <tr>\n",
       "      <th>1</th>\n",
       "      <td>BMW</td>\n",
       "      <td>1 Series</td>\n",
       "      <td>2011</td>\n",
       "      <td>300.0</td>\n",
       "      <td>6.0</td>\n",
       "      <td>MANUAL</td>\n",
       "      <td>rear wheel drive</td>\n",
       "      <td>28</td>\n",
       "      <td>19</td>\n",
       "      <td>40650</td>\n",
       "    </tr>\n",
       "    <tr>\n",
       "      <th>2</th>\n",
       "      <td>BMW</td>\n",
       "      <td>1 Series</td>\n",
       "      <td>2011</td>\n",
       "      <td>300.0</td>\n",
       "      <td>6.0</td>\n",
       "      <td>MANUAL</td>\n",
       "      <td>rear wheel drive</td>\n",
       "      <td>28</td>\n",
       "      <td>20</td>\n",
       "      <td>36350</td>\n",
       "    </tr>\n",
       "    <tr>\n",
       "      <th>3</th>\n",
       "      <td>BMW</td>\n",
       "      <td>1 Series</td>\n",
       "      <td>2011</td>\n",
       "      <td>230.0</td>\n",
       "      <td>6.0</td>\n",
       "      <td>MANUAL</td>\n",
       "      <td>rear wheel drive</td>\n",
       "      <td>28</td>\n",
       "      <td>18</td>\n",
       "      <td>29450</td>\n",
       "    </tr>\n",
       "    <tr>\n",
       "      <th>4</th>\n",
       "      <td>BMW</td>\n",
       "      <td>1 Series</td>\n",
       "      <td>2011</td>\n",
       "      <td>230.0</td>\n",
       "      <td>6.0</td>\n",
       "      <td>MANUAL</td>\n",
       "      <td>rear wheel drive</td>\n",
       "      <td>28</td>\n",
       "      <td>18</td>\n",
       "      <td>34500</td>\n",
       "    </tr>\n",
       "  </tbody>\n",
       "</table>\n",
       "</div>"
      ],
      "text/plain": [
       "  Make       Model  Year  Engine HP  Engine Cylinders Transmission Type  \\\n",
       "0  BMW  1 Series M  2011      335.0               6.0            MANUAL   \n",
       "1  BMW    1 Series  2011      300.0               6.0            MANUAL   \n",
       "2  BMW    1 Series  2011      300.0               6.0            MANUAL   \n",
       "3  BMW    1 Series  2011      230.0               6.0            MANUAL   \n",
       "4  BMW    1 Series  2011      230.0               6.0            MANUAL   \n",
       "\n",
       "      Driven_Wheels  highway MPG  city mpg   MSRP  \n",
       "0  rear wheel drive           26        19  46135  \n",
       "1  rear wheel drive           28        19  40650  \n",
       "2  rear wheel drive           28        20  36350  \n",
       "3  rear wheel drive           28        18  29450  \n",
       "4  rear wheel drive           28        18  34500  "
      ]
     },
     "execution_count": 11,
     "metadata": {},
     "output_type": "execute_result"
    }
   ],
   "source": [
    "df.head()"
   ]
  },
  {
   "cell_type": "code",
   "execution_count": 12,
   "metadata": {
    "id": "xy4QJFjU7TZE"
   },
   "outputs": [],
   "source": [
    "# Now we rename the variables\n",
    "df = df.rename(columns = {\"Engine HP\":\"HP\",\n",
    "                          \"Engine Cylinders\":\"Cylinders\",\n",
    "                          \"Transmission Type\": \"Type\",\n",
    "                          \"highway MPG\": \"Highway_mpg\",\n",
    "                          \"city mpg\": \"City_mpg\"})"
   ]
  },
  {
   "cell_type": "code",
   "execution_count": 13,
   "metadata": {
    "colab": {
     "base_uri": "https://localhost:8080/",
     "height": 300
    },
    "id": "uxJAN37F6oi9",
    "outputId": "f5840c3f-f6b6-4f3f-9576-e8c54fba3890"
   },
   "outputs": [
    {
     "data": {
      "text/html": [
       "<div>\n",
       "<style scoped>\n",
       "    .dataframe tbody tr th:only-of-type {\n",
       "        vertical-align: middle;\n",
       "    }\n",
       "\n",
       "    .dataframe tbody tr th {\n",
       "        vertical-align: top;\n",
       "    }\n",
       "\n",
       "    .dataframe thead th {\n",
       "        text-align: right;\n",
       "    }\n",
       "</style>\n",
       "<table border=\"1\" class=\"dataframe\">\n",
       "  <thead>\n",
       "    <tr style=\"text-align: right;\">\n",
       "      <th></th>\n",
       "      <th>Year</th>\n",
       "      <th>HP</th>\n",
       "      <th>Cylinders</th>\n",
       "      <th>Highway_mpg</th>\n",
       "      <th>City_mpg</th>\n",
       "      <th>MSRP</th>\n",
       "    </tr>\n",
       "  </thead>\n",
       "  <tbody>\n",
       "    <tr>\n",
       "      <th>count</th>\n",
       "      <td>7735.00000</td>\n",
       "      <td>7735.000000</td>\n",
       "      <td>7735.000000</td>\n",
       "      <td>7735.00000</td>\n",
       "      <td>7735.000000</td>\n",
       "      <td>7.735000e+03</td>\n",
       "    </tr>\n",
       "    <tr>\n",
       "      <th>mean</th>\n",
       "      <td>2012.14958</td>\n",
       "      <td>277.632062</td>\n",
       "      <td>5.825469</td>\n",
       "      <td>26.52980</td>\n",
       "      <td>19.468649</td>\n",
       "      <td>5.102826e+04</td>\n",
       "    </tr>\n",
       "    <tr>\n",
       "      <th>std</th>\n",
       "      <td>6.23167</td>\n",
       "      <td>115.529955</td>\n",
       "      <td>1.895593</td>\n",
       "      <td>7.78492</td>\n",
       "      <td>7.231534</td>\n",
       "      <td>7.153777e+04</td>\n",
       "    </tr>\n",
       "    <tr>\n",
       "      <th>min</th>\n",
       "      <td>1990.00000</td>\n",
       "      <td>55.000000</td>\n",
       "      <td>0.000000</td>\n",
       "      <td>12.00000</td>\n",
       "      <td>7.000000</td>\n",
       "      <td>2.000000e+03</td>\n",
       "    </tr>\n",
       "    <tr>\n",
       "      <th>25%</th>\n",
       "      <td>2010.00000</td>\n",
       "      <td>194.000000</td>\n",
       "      <td>4.000000</td>\n",
       "      <td>22.00000</td>\n",
       "      <td>16.000000</td>\n",
       "      <td>2.622500e+04</td>\n",
       "    </tr>\n",
       "    <tr>\n",
       "      <th>50%</th>\n",
       "      <td>2015.00000</td>\n",
       "      <td>270.000000</td>\n",
       "      <td>6.000000</td>\n",
       "      <td>26.00000</td>\n",
       "      <td>18.000000</td>\n",
       "      <td>3.560000e+04</td>\n",
       "    </tr>\n",
       "    <tr>\n",
       "      <th>75%</th>\n",
       "      <td>2016.00000</td>\n",
       "      <td>325.000000</td>\n",
       "      <td>6.000000</td>\n",
       "      <td>30.00000</td>\n",
       "      <td>22.000000</td>\n",
       "      <td>4.947750e+04</td>\n",
       "    </tr>\n",
       "    <tr>\n",
       "      <th>max</th>\n",
       "      <td>2017.00000</td>\n",
       "      <td>1001.000000</td>\n",
       "      <td>16.000000</td>\n",
       "      <td>354.00000</td>\n",
       "      <td>137.000000</td>\n",
       "      <td>2.065902e+06</td>\n",
       "    </tr>\n",
       "  </tbody>\n",
       "</table>\n",
       "</div>"
      ],
      "text/plain": [
       "             Year           HP    Cylinders  Highway_mpg     City_mpg  \\\n",
       "count  7735.00000  7735.000000  7735.000000   7735.00000  7735.000000   \n",
       "mean   2012.14958   277.632062     5.825469     26.52980    19.468649   \n",
       "std       6.23167   115.529955     1.895593      7.78492     7.231534   \n",
       "min    1990.00000    55.000000     0.000000     12.00000     7.000000   \n",
       "25%    2010.00000   194.000000     4.000000     22.00000    16.000000   \n",
       "50%    2015.00000   270.000000     6.000000     26.00000    18.000000   \n",
       "75%    2016.00000   325.000000     6.000000     30.00000    22.000000   \n",
       "max    2017.00000  1001.000000    16.000000    354.00000   137.000000   \n",
       "\n",
       "               MSRP  \n",
       "count  7.735000e+03  \n",
       "mean   5.102826e+04  \n",
       "std    7.153777e+04  \n",
       "min    2.000000e+03  \n",
       "25%    2.622500e+04  \n",
       "50%    3.560000e+04  \n",
       "75%    4.947750e+04  \n",
       "max    2.065902e+06  "
      ]
     },
     "execution_count": 13,
     "metadata": {},
     "output_type": "execute_result"
    }
   ],
   "source": [
    "# so the next step is a short descriptive statistics\n",
    "df.describe()"
   ]
  },
  {
   "cell_type": "code",
   "execution_count": 14,
   "metadata": {
    "colab": {
     "base_uri": "https://localhost:8080/"
    },
    "id": "sDS0uJl46of1",
    "outputId": "2432a2b4-c3e0-4adb-bc66-d26ea413c24b"
   },
   "outputs": [
    {
     "name": "stdout",
     "output_type": "stream",
     "text": [
      "The Makes with the highest horsepower is: Make\n",
      "Bugatti        1001.0\n",
      "Lamborghini     750.0\n",
      "Ferrari         731.0\n",
      "Dodge           707.0\n",
      "Ford            662.0\n",
      "Name: HP, dtype: float64\n"
     ]
    }
   ],
   "source": [
    "# Now I just want to know manual and automatic which have a higher horse power\n",
    "df['HP'].groupby(df['Type']).mean()\n",
    "\n",
    "# Just note that this is just me being curious it has nothing to do with the analysis\n",
    "Make = df['HP'].groupby(df['Make']).max()\n",
    "Make = Make.sort_values(ascending = False)\n",
    "print(f\"The Makes with the highest horsepower is: {Make.head()}\")"
   ]
  },
  {
   "cell_type": "code",
   "execution_count": 15,
   "metadata": {
    "colab": {
     "base_uri": "https://localhost:8080/",
     "height": 290
    },
    "id": "TO5RUeJ-6odK",
    "outputId": "aa81eb34-c9b5-40cd-f82d-134b68242468"
   },
   "outputs": [
    {
     "data": {
      "text/plain": [
       "[]"
      ]
     },
     "execution_count": 15,
     "metadata": {},
     "output_type": "execute_result"
    },
    {
     "data": {
      "image/png": "[encoded data removed]",
      "text/plain": [
       "<Figure size 360x180 with 1 Axes>"
      ]
     },
     "metadata": {
      "needs_background": "light"
     },
     "output_type": "display_data"
    }
   ],
   "source": [
    "# Now we move to visualization\n",
    "# We start by boxplot\n",
    "plt.figure(figsize = (5, 2.5))\n",
    "sns.boxplot(x = df['HP'])\n",
    "plt.plot()\n"
   ]
  },
  {
   "cell_type": "code",
   "execution_count": 16,
   "metadata": {
    "colab": {
     "base_uri": "https://localhost:8080/",
     "height": 272
    },
    "id": "JZ9iT9Tt6oZ3",
    "outputId": "7719df15-0890-4fb6-b9b3-374fcc985f6e"
   },
   "outputs": [
    {
     "data": {
      "image/png": "[encoded data removed]",
      "text/plain": [
       "<Figure size 360x180 with 1 Axes>"
      ]
     },
     "metadata": {
      "needs_background": "light"
     },
     "output_type": "display_data"
    }
   ],
   "source": [
    "plt.figure(figsize = (5, 2.5))\n",
    "sns.boxplot(x = df['City_mpg'])\n",
    "plt.show()"
   ]
  },
  {
   "cell_type": "code",
   "execution_count": 17,
   "metadata": {
    "colab": {
     "base_uri": "https://localhost:8080/",
     "height": 290
    },
    "id": "aDivVejA6oV-",
    "outputId": "7c37cd59-81c4-4d33-bb5b-59fe6a8b3b06"
   },
   "outputs": [
    {
     "data": {
      "text/plain": [
       "[]"
      ]
     },
     "execution_count": 17,
     "metadata": {},
     "output_type": "execute_result"
    },
    {
     "data": {
      "image/png": "[encoded data removed]",
      "text/plain": [
       "<Figure size 360x180 with 1 Axes>"
      ]
     },
     "metadata": {
      "needs_background": "light"
     },
     "output_type": "display_data"
    }
   ],
   "source": [
    "plt.figure(figsize = (5, 2.5))\n",
    "sns.boxplot(x = df['Highway_mpg'])\n",
    "plt.plot()"
   ]
  },
  {
   "cell_type": "code",
   "execution_count": 21,
   "metadata": {
    "colab": {
     "base_uri": "https://localhost:8080/",
     "height": 272
    },
    "id": "i17hhMF16oSe",
    "outputId": "e00f295c-d98a-46ce-bf73-055eda4abeda"
   },
   "outputs": [
    {
     "name": "stdout",
     "output_type": "stream",
     "text": [
      "Year               4.00\n",
      "HP               106.00\n",
      "Cylinders          2.00\n",
      "Highway_mpg        7.00\n",
      "City_mpg           5.00\n",
      "MSRP           17433.75\n",
      "dtype: float64\n"
     ]
    },
    {
     "name": "stderr",
     "output_type": "stream",
     "text": [
      "C:\\Users\\njoro\\AppData\\Local\\Temp\\ipykernel_12660\\1838341049.py:10: FutureWarning: Automatic reindexing on DataFrame vs Series comparisons is deprecated and will raise ValueError in a future version. Do `left, right = left.align(right, axis=1, copy=False)` before e.g. `left == right`\n",
      "  df = df[~((df < lower_bound) | (df > upper_bound)).any(axis=1)]\n"
     ]
    },
    {
     "data": {
      "text/plain": [
       "<AxesSubplot:xlabel='Cylinders'>"
      ]
     },
     "execution_count": 21,
     "metadata": {},
     "output_type": "execute_result"
    },
    {
     "data": {
      "image/png": "[encoded data removed]",
      "text/plain": [
       "<Figure size 360x144 with 1 Axes>"
      ]
     },
     "metadata": {
      "needs_background": "light"
     },
     "output_type": "display_data"
    }
   ],
   "source": [
    "# It is quite clear that we have numerous outliers now let me show you how we deal with it\n",
    "# So we remove values above the 3rd quantile and below the 1st quantile\n",
    "Q1 = df.quantile(0.25)\n",
    "Q3 = df.quantile(0.75)\n",
    "IQR = Q3 - Q1\n",
    "print(IQR)\n",
    "\n",
    "lower_bound = Q1 - (1.5 * IQR)\n",
    "upper_bound = Q3 + (1.5 * IQR)\n",
    "df = df[~((df < lower_bound) | (df > upper_bound)).any(axis=1)]\n",
    "\n",
    "plt.figure(figsize = (5, 2))\n",
    "sns.boxplot(x = df.Cylinders)\n",
    "# And thats how you remove outliers"
   ]
  },
  {
   "cell_type": "code",
   "execution_count": 22,
   "metadata": {
    "colab": {
     "base_uri": "https://localhost:8080/",
     "height": 578
    },
    "id": "yYA6hZyp6oQK",
    "outputId": "c31d3327-4dde-4ce0-8132-b4687193a518"
   },
   "outputs": [
    {
     "data": {
      "image/png": "[encoded data removed]",
      "text/plain": [
       "<Figure size 864x360 with 1 Axes>"
      ]
     },
     "metadata": {
      "needs_background": "light"
     },
     "output_type": "display_data"
    }
   ],
   "source": [
    "# Next we plot the make of the car and the number of cars\n",
    "df['Make'].value_counts().plot(kind = \"bar\", figsize = (12, 5))\n",
    "plt.xlabel(\"Make\")\n",
    "plt.ylabel(\"Number of cars\")\n",
    "plt.title(\"Production by Make\")\n",
    "plt.show()"
   ]
  },
  {
   "cell_type": "code",
   "execution_count": 26,
   "metadata": {
    "colab": {
     "base_uri": "https://localhost:8080/",
     "height": 372
    },
    "id": "s_IEsztW6oNh",
    "outputId": "ca63e23b-5e05-4a24-d341-5a144ad550ec"
   },
   "outputs": [
    {
     "name": "stdout",
     "output_type": "stream",
     "text": [
      "Correlation Results \n",
      ":                  Year        HP  Cylinders  Highway_mpg  City_mpg      MSRP\n",
      "Year         1.000000  0.089404  -0.204169     0.340863  0.319862  0.203460\n",
      "HP           0.089404  1.000000   0.759051    -0.544279 -0.638864  0.721604\n",
      "Cylinders   -0.204169  0.759051   1.000000    -0.729623 -0.771347  0.452623\n",
      "Highway_mpg  0.340863 -0.544279  -0.729623     1.000000  0.920919 -0.265418\n",
      "City_mpg     0.319862 -0.638864  -0.771347     0.920919  1.000000 -0.340790\n",
      "MSRP         0.203460  0.721604   0.452623    -0.265418 -0.340790  1.000000\n"
     ]
    },
    {
     "data": {
      "image/png": "[encoded data removed]",
      "text/plain": [
       "<Figure size 720x504 with 2 Axes>"
      ]
     },
     "metadata": {
      "needs_background": "light"
     },
     "output_type": "display_data"
    }
   ],
   "source": [
    "# Now a heat map\n",
    "c = df.corr()\n",
    "print(f\"Correlation Results \\n: {c}\")\n",
    "plt.figure(figsize = (10, 7))\n",
    "sns.heatmap(c, cmap = \"BrBG\", annot = True)\n",
    "plt.show()"
   ]
  },
  {
   "cell_type": "markdown",
   "metadata": {},
   "source": [
    "# So thats it for EDA a rather brush through"
   ]
  },
  {
   "cell_type": "code",
   "execution_count": null,
   "metadata": {},
   "outputs": [],
   "source": []
  }
 ],
 "metadata": {
  "colab": {
   "provenance": []
  },
  "kernelspec": {
   "display_name": "Python 3 (ipykernel)",
   "language": "python",
   "name": "python3"
  },
  "language_info": {
   "codemirror_mode": {
    "name": "ipython",
    "version": 3
   },
   "file_extension": ".py",
   "mimetype": "text/x-python",
   "name": "python",
   "nbconvert_exporter": "python",
   "pygments_lexer": "ipython3",
   "version": "3.9.12"
  }
 },
 "nbformat": 4,
 "nbformat_minor": 1
}
